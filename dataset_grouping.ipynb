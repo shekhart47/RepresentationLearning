{
 "cells": [
  {
   "cell_type": "code",
   "execution_count": 2,
   "id": "14c5a133-f68e-4631-ac5c-85a98db6c116",
   "metadata": {},
   "outputs": [],
   "source": [
    "import pandas as pd"
   ]
  },
  {
   "cell_type": "code",
   "execution_count": 3,
   "id": "4849973d-8753-4855-bea1-57a4cbee39da",
   "metadata": {},
   "outputs": [],
   "source": [
    "def load_dataset() -> dict:\n",
    "    train_data_path = '../../../datasets/dataset_training/triplet_dataset_v45_240_queries_10positives_50hn_train.csv'\n",
    "    eval_data_path = '../../../datasets/dataset_training/triplet_dataset_v45_240_queries_10positives_50hn_eval.csv'\n",
    "    test_data_path = '../../../datasets/dataset_training/triplet_dataset_v45_240_queries_10positives_50hn_test.csv'\n",
    "    \n",
    "    train_df = pd.read_csv(train_data_path)\n",
    "    eval_df = pd.read_csv(eval_data_path)\n",
    "    test_df = pd.read_csv(test_data_path)\n",
    "    dataset = pd.concat([train_df, eval_df, test_df])\n",
    "    dataset = dataset.iloc[:,1:]\n",
    "\n",
    "    #query_codes_dataset = dict(dataset.groupby(['anchor'])['positives'].apply(set).apply(list))\n",
    "\n",
    "    return dataset"
   ]
  },
  {
   "cell_type": "code",
   "execution_count": 4,
   "id": "39b4306e-2481-44cc-a1a8-f3a599cfa9a7",
   "metadata": {},
   "outputs": [],
   "source": [
    "dataset = load_dataset()"
   ]
  },
  {
   "cell_type": "code",
   "execution_count": 5,
   "id": "9ad741a5-2341-48c8-8981-be9f1d82f5dd",
   "metadata": {},
   "outputs": [
    {
     "data": {
      "text/html": [
       "<div>\n",
       "<style scoped>\n",
       "    .dataframe tbody tr th:only-of-type {\n",
       "        vertical-align: middle;\n",
       "    }\n",
       "\n",
       "    .dataframe tbody tr th {\n",
       "        vertical-align: top;\n",
       "    }\n",
       "\n",
       "    .dataframe thead th {\n",
       "        text-align: right;\n",
       "    }\n",
       "</style>\n",
       "<table border=\"1\" class=\"dataframe\">\n",
       "  <thead>\n",
       "    <tr style=\"text-align: right;\">\n",
       "      <th></th>\n",
       "      <th>specialty</th>\n",
       "      <th>anchor</th>\n",
       "      <th>positives</th>\n",
       "      <th>negatives</th>\n",
       "    </tr>\n",
       "  </thead>\n",
       "  <tbody>\n",
       "    <tr>\n",
       "      <th>0</th>\n",
       "      <td>acupuncturist_acupuncturist</td>\n",
       "      <td>acupuncture for scoliosis pain</td>\n",
       "      <td>Segmental and somatic dysfunction of head region</td>\n",
       "      <td>monocytic angina</td>\n",
       "    </tr>\n",
       "    <tr>\n",
       "      <th>1</th>\n",
       "      <td>acupuncturist_acupuncturist</td>\n",
       "      <td>acupuncture for scoliosis pain</td>\n",
       "      <td>Segmental and somatic dysfunction of head region</td>\n",
       "      <td>coronary (artery) occlusion</td>\n",
       "    </tr>\n",
       "    <tr>\n",
       "      <th>2</th>\n",
       "      <td>acupuncturist_acupuncturist</td>\n",
       "      <td>acupuncture for scoliosis pain</td>\n",
       "      <td>Segmental and somatic dysfunction of head region</td>\n",
       "      <td>ascaridiasis</td>\n",
       "    </tr>\n",
       "    <tr>\n",
       "      <th>3</th>\n",
       "      <td>acupuncturist_acupuncturist</td>\n",
       "      <td>acupuncture for scoliosis pain</td>\n",
       "      <td>Segmental and somatic dysfunction of head region</td>\n",
       "      <td>2-part disp fx of surgical neck of unsp humeru...</td>\n",
       "    </tr>\n",
       "    <tr>\n",
       "      <th>4</th>\n",
       "      <td>acupuncturist_acupuncturist</td>\n",
       "      <td>acupuncture for scoliosis pain</td>\n",
       "      <td>Segmental and somatic dysfunction of head region</td>\n",
       "      <td>chronic pyelitis</td>\n",
       "    </tr>\n",
       "  </tbody>\n",
       "</table>\n",
       "</div>"
      ],
      "text/plain": [
       "                     specialty                          anchor  \\\n",
       "0  acupuncturist_acupuncturist  acupuncture for scoliosis pain   \n",
       "1  acupuncturist_acupuncturist  acupuncture for scoliosis pain   \n",
       "2  acupuncturist_acupuncturist  acupuncture for scoliosis pain   \n",
       "3  acupuncturist_acupuncturist  acupuncture for scoliosis pain   \n",
       "4  acupuncturist_acupuncturist  acupuncture for scoliosis pain   \n",
       "\n",
       "                                          positives  \\\n",
       "0  Segmental and somatic dysfunction of head region   \n",
       "1  Segmental and somatic dysfunction of head region   \n",
       "2  Segmental and somatic dysfunction of head region   \n",
       "3  Segmental and somatic dysfunction of head region   \n",
       "4  Segmental and somatic dysfunction of head region   \n",
       "\n",
       "                                           negatives  \n",
       "0                                   monocytic angina  \n",
       "1                        coronary (artery) occlusion  \n",
       "2                                       ascaridiasis  \n",
       "3  2-part disp fx of surgical neck of unsp humeru...  \n",
       "4                                   chronic pyelitis  "
      ]
     },
     "execution_count": 5,
     "metadata": {},
     "output_type": "execute_result"
    }
   ],
   "source": [
    "dataset.head()"
   ]
  },
  {
   "cell_type": "code",
   "execution_count": 11,
   "id": "549bd129-2bfe-43f9-8544-105da6061d60",
   "metadata": {},
   "outputs": [],
   "source": [
    "def create_specialty_query_dict(dataset):\n",
    "\n",
    "\n",
    "    mask = dataset['positives'].notna() & (dataset['positives'] != '') & (dataset['positives'].str.strip() != '') \n",
    "    filtered_data = dataset[mask].copy()\n",
    "    \n",
    "    \n",
    "    grouped = (filtered_data.groupby(['specialty','anchor'])['positives'].agg(set).agg(list).reset_index())\n",
    "    \n",
    "    \n",
    "    specialty_dict = {}\n",
    "    \n",
    "    for specialty, group in grouped.groupby('specialty'):\n",
    "        specialty_dict[specialty] = dict(zip(group['anchor'], group['positives']))\n",
    "        \n",
    "        \n",
    "    return specialty_dict"
   ]
  },
  {
   "cell_type": "code",
   "execution_count": 12,
   "id": "51939eee-e212-4a2d-88b7-30ffc7b2f167",
   "metadata": {},
   "outputs": [],
   "source": [
    "specialty_dict = create_specialty_query_dict(dataset)"
   ]
  },
  {
   "cell_type": "code",
   "execution_count": 14,
   "id": "7dc9829b-3131-4b6f-8c40-e7cc53b057a9",
   "metadata": {},
   "outputs": [],
   "source": [
    "# all_specialties = list(specialty_dict.keys())\n",
    "# specialty = all_specialties[0]\n",
    "# specialty_dict.get(specialty)"
   ]
  },
  {
   "cell_type": "code",
   "execution_count": 15,
   "id": "efd38d11-ea8d-4d40-9281-58fc07c0f0da",
   "metadata": {},
   "outputs": [],
   "source": [
    "import json\n",
    "with open('./dataset.json', 'w') as file:\n",
    "    json.dump(specialty_dict, file, indent = 4)"
   ]
  },
  {
   "cell_type": "code",
   "execution_count": null,
   "id": "361864fc-6712-4b25-ba5c-296b7b4afdd7",
   "metadata": {},
   "outputs": [],
   "source": []
  }
 ],
 "metadata": {
  "kernelspec": {
   "display_name": "Python 3.10 - SDK v2",
   "language": "python",
   "name": "python310-sdkv2"
  },
  "language_info": {
   "codemirror_mode": {
    "name": "ipython",
    "version": 3
   },
   "file_extension": ".py",
   "mimetype": "text/x-python",
   "name": "python",
   "nbconvert_exporter": "python",
   "pygments_lexer": "ipython3",
   "version": "3.10.16"
  }
 },
 "nbformat": 4,
 "nbformat_minor": 5
}
